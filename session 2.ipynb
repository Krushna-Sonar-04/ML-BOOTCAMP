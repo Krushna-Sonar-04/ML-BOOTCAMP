{
 "cells": [
  {
   "cell_type": "markdown",
   "id": "a522614f-d28e-4ba3-8d25-143d5fb90a08",
   "metadata": {},
   "source": [
    "Types of approaches of ML:\n",
    "1) Supervised learning -> TO solve : Regression and Predicton type Classification : \n",
    "2) Unsupervised learning -> To solve : Clustering types of problems : use DBSCAN and KMEANS\n",
    "3) Semi Supervised learning -> use in realtime : supervised learning followed by unsupervised learning\n",
    "4) Re-inforcement learning"
   ]
  },
  {
   "cell_type": "markdown",
   "id": "0e454a7d-cabe-4b94-8116-eefe7f3504bc",
   "metadata": {},
   "source": [
    "in prediction the output will always be numeric data. "
   ]
  },
  {
   "cell_type": "markdown",
   "id": "afc16c76-b8de-42a2-9b5e-2e373a6b8429",
   "metadata": {},
   "source": [
    "regression: linear regression , decision tree , boosting \n",
    "\n",
    "boosting : 1)Adaboost\n",
    "           2)Gradient boost\n",
    "           3)XgBoost\n",
    "           \n",
    "           "
   ]
  },
  {
   "cell_type": "markdown",
   "id": "af8135ad-02b9-48da-9655-54777ac782ee",
   "metadata": {},
   "source": [
    "while crearting model . we will create files like :\n",
    "\n",
    ".pkl\n",
    "\n",
    ".joblib\n",
    "\n",
    ".sav\n",
    "\n",
    "\n",
    "\n",
    "\n",
    "deepliearning :\n",
    ".h5"
   ]
  },
  {
   "cell_type": "code",
   "execution_count": null,
   "id": "d82d292e-91aa-4b4e-842e-d79ee2558188",
   "metadata": {},
   "outputs": [],
   "source": []
  }
 ],
 "metadata": {
  "kernelspec": {
   "display_name": "Python [conda env:base] *",
   "language": "python",
   "name": "conda-base-py"
  },
  "language_info": {
   "codemirror_mode": {
    "name": "ipython",
    "version": 3
   },
   "file_extension": ".py",
   "mimetype": "text/x-python",
   "name": "python",
   "nbconvert_exporter": "python",
   "pygments_lexer": "ipython3",
   "version": "3.13.5"
  }
 },
 "nbformat": 4,
 "nbformat_minor": 5
}
