{
 "cells": [
  {
   "cell_type": "code",
   "execution_count": 2,
   "id": "0e422353-b27c-4894-a1d5-f4250adae26b",
   "metadata": {},
   "outputs": [],
   "source": [
    "s = 'abscfdriewfn'"
   ]
  },
  {
   "cell_type": "code",
   "execution_count": 3,
   "id": "c182c3b7-9380-490b-bc63-26fc8759b246",
   "metadata": {},
   "outputs": [
    {
     "data": {
      "text/plain": [
       "'scfdri'"
      ]
     },
     "execution_count": 3,
     "metadata": {},
     "output_type": "execute_result"
    }
   ],
   "source": [
    "s[2:-4]"
   ]
  },
  {
   "cell_type": "code",
   "execution_count": 4,
   "id": "3b449e2a-bb81-4c92-a431-9a4b248f16b6",
   "metadata": {},
   "outputs": [
    {
     "data": {
      "text/plain": [
       "''"
      ]
     },
     "execution_count": 4,
     "metadata": {},
     "output_type": "execute_result"
    }
   ],
   "source": [
    "s[-3:-6]"
   ]
  },
  {
   "cell_type": "code",
   "execution_count": 7,
   "id": "80a166a3-c99d-420c-bb3c-77375211e979",
   "metadata": {},
   "outputs": [
    {
     "data": {
      "text/plain": [
       "50"
      ]
     },
     "execution_count": 7,
     "metadata": {},
     "output_type": "execute_result"
    }
   ],
   "source": [
    "add = lambda x,y : x+y\n",
    "add(20,30)"
   ]
  },
  {
   "cell_type": "code",
   "execution_count": 8,
   "id": "51a80fef-d1ac-4a9a-a92a-43f12a0073ff",
   "metadata": {},
   "outputs": [],
   "source": [
    "s3 = set()"
   ]
  },
  {
   "cell_type": "code",
   "execution_count": 9,
   "id": "bbe9f411-2e9b-44ef-a9e5-c02e81afb9c0",
   "metadata": {},
   "outputs": [
    {
     "data": {
      "text/plain": [
       "set"
      ]
     },
     "execution_count": 9,
     "metadata": {},
     "output_type": "execute_result"
    }
   ],
   "source": [
    "type(s3)"
   ]
  },
  {
   "cell_type": "code",
   "execution_count": 10,
   "id": "526fba64-57ec-465a-806e-b63d6b255d11",
   "metadata": {},
   "outputs": [],
   "source": [
    "class person:\n",
    "    pass\n",
    "    "
   ]
  },
  {
   "cell_type": "code",
   "execution_count": 11,
   "id": "6869a404-4687-48d9-a0ae-847a746e05e8",
   "metadata": {},
   "outputs": [],
   "source": [
    "p1 = person()"
   ]
  },
  {
   "cell_type": "code",
   "execution_count": 12,
   "id": "0d2e05a8-fa47-4686-aa40-14badc83a0e8",
   "metadata": {},
   "outputs": [
    {
     "data": {
      "text/plain": [
       "__main__.person"
      ]
     },
     "execution_count": 12,
     "metadata": {},
     "output_type": "execute_result"
    }
   ],
   "source": [
    "type(p1)"
   ]
  },
  {
   "cell_type": "code",
   "execution_count": 13,
   "id": "5ff27fa2-60ff-4733-b8dc-7b0c5acca0bb",
   "metadata": {},
   "outputs": [],
   "source": [
    "class student:\n",
    "    def __init__(self , name , surname , yob):\n",
    "        self.name = name\n",
    "        self.surname = surname\n",
    "        self.yob = yob"
   ]
  },
  {
   "cell_type": "code",
   "execution_count": 19,
   "id": "ad7765f4-aa70-4eff-9688-f9a1ee7bca81",
   "metadata": {},
   "outputs": [],
   "source": [
    "obj = student(\"Krushna\" , \"Sonar\" , 2004 )"
   ]
  },
  {
   "cell_type": "code",
   "execution_count": 21,
   "id": "fba8de75-ff80-4a1c-bf21-7736d91bf7ac",
   "metadata": {},
   "outputs": [],
   "source": [
    "a = range(5,20,5)"
   ]
  },
  {
   "cell_type": "code",
   "execution_count": 23,
   "id": "95aa1ee3-9b42-4554-a9b2-63c01b849322",
   "metadata": {},
   "outputs": [
    {
     "data": {
      "text/plain": [
       "'Krushna'"
      ]
     },
     "execution_count": 23,
     "metadata": {},
     "output_type": "execute_result"
    }
   ],
   "source": [
    "obj.name"
   ]
  },
  {
   "cell_type": "markdown",
   "id": "91d93565-dbda-4573-84fc-2f7803bb275b",
   "metadata": {},
   "source": [
    "access specifies"
   ]
  },
  {
   "cell_type": "code",
   "execution_count": 29,
   "id": "4edefd80-2eee-4953-a242-ce7ce9f38e3d",
   "metadata": {},
   "outputs": [],
   "source": [
    "class test:\n",
    "    def __init__(self , name , surname , yob):\n",
    "        self.__name = name\n",
    "        self._surname = surname\n",
    "        self.yob = yob"
   ]
  },
  {
   "cell_type": "code",
   "execution_count": 30,
   "id": "21b6db9d-25c9-4f20-889b-7ce01b20e9fb",
   "metadata": {},
   "outputs": [],
   "source": [
    "p = test(\"krushna\" , \"sonar\"  , 2004)"
   ]
  },
  {
   "cell_type": "code",
   "execution_count": 31,
   "id": "0e3af760-45ba-4674-a669-fa865b497216",
   "metadata": {},
   "outputs": [
    {
     "data": {
      "text/plain": [
       "'sonar'"
      ]
     },
     "execution_count": 31,
     "metadata": {},
     "output_type": "execute_result"
    }
   ],
   "source": [
    "p._surname"
   ]
  },
  {
   "cell_type": "code",
   "execution_count": 35,
   "id": "c1ca74b3-a9d1-4c23-9792-0b88edf81173",
   "metadata": {},
   "outputs": [
    {
     "data": {
      "text/plain": [
       "{'_test__name': 'krushna', '_surname': 'sonar', 'yob': 2004}"
      ]
     },
     "execution_count": 35,
     "metadata": {},
     "output_type": "execute_result"
    }
   ],
   "source": [
    "p.__dict__"
   ]
  },
  {
   "cell_type": "code",
   "execution_count": 37,
   "id": "b5614c49-9fdd-43d9-a7f4-132c05a8cf86",
   "metadata": {},
   "outputs": [
    {
     "data": {
      "text/plain": [
       "'krushna'"
      ]
     },
     "execution_count": 37,
     "metadata": {},
     "output_type": "execute_result"
    }
   ],
   "source": [
    "p._test__name"
   ]
  },
  {
   "cell_type": "markdown",
   "id": "ab290646-3e2b-467b-8bec-488ca29146d4",
   "metadata": {},
   "source": [
    "numpy = numerical python"
   ]
  },
  {
   "cell_type": "code",
   "execution_count": 38,
   "id": "99dff2b1-f18b-4184-a22e-15217ba13bf3",
   "metadata": {},
   "outputs": [],
   "source": [
    "import numpy as np"
   ]
  },
  {
   "cell_type": "code",
   "execution_count": 40,
   "id": "d4b2e3d3-66cd-490d-893b-c23bbe8b5b96",
   "metadata": {},
   "outputs": [],
   "source": [
    "arr = np.arange(1,26)"
   ]
  },
  {
   "cell_type": "code",
   "execution_count": 41,
   "id": "4625f32d-c83f-4832-8678-2bb02c193525",
   "metadata": {},
   "outputs": [
    {
     "data": {
      "text/plain": [
       "array([ 1,  2,  3,  4,  5,  6,  7,  8,  9, 10, 11, 12, 13, 14, 15, 16, 17,\n",
       "       18, 19, 20, 21, 22, 23, 24, 25])"
      ]
     },
     "execution_count": 41,
     "metadata": {},
     "output_type": "execute_result"
    }
   ],
   "source": [
    "arr"
   ]
  },
  {
   "cell_type": "code",
   "execution_count": 45,
   "id": "7c0a535d-5da1-447f-83f3-a1865bdc33be",
   "metadata": {},
   "outputs": [
    {
     "data": {
      "text/plain": [
       "array([[ 1,  2,  3,  4,  5],\n",
       "       [ 6,  7,  8,  9, 10],\n",
       "       [11, 12, 13, 14, 15],\n",
       "       [16, 17, 18, 19, 20],\n",
       "       [21, 22, 23, 24, 25]])"
      ]
     },
     "execution_count": 45,
     "metadata": {},
     "output_type": "execute_result"
    }
   ],
   "source": [
    "arr.reshape(5,5)"
   ]
  },
  {
   "cell_type": "code",
   "execution_count": 49,
   "id": "5bf910bc-8493-4525-884c-24ca6285d524",
   "metadata": {},
   "outputs": [
    {
     "ename": "IndexError",
     "evalue": "too many indices for array: array is 1-dimensional, but 2 were indexed",
     "output_type": "error",
     "traceback": [
      "\u001b[1;31m---------------------------------------------------------------------------\u001b[0m",
      "\u001b[1;31mIndexError\u001b[0m                                Traceback (most recent call last)",
      "Cell \u001b[1;32mIn[49], line 1\u001b[0m\n\u001b[1;32m----> 1\u001b[0m arr[\u001b[38;5;241m0\u001b[39m:\u001b[38;5;241m3\u001b[39m,\u001b[38;5;241m1\u001b[39m]\n",
      "\u001b[1;31mIndexError\u001b[0m: too many indices for array: array is 1-dimensional, but 2 were indexed"
     ]
    }
   ],
   "source": [
    "arr[0:3,1]"
   ]
  },
  {
   "cell_type": "code",
   "execution_count": 50,
   "id": "bf8f1f23-fcbe-4df3-8447-93959c70d5ba",
   "metadata": {},
   "outputs": [],
   "source": [
    "arr2d = arr.reshape(5,5)"
   ]
  },
  {
   "cell_type": "code",
   "execution_count": 51,
   "id": "69dcc2f7-b198-4d9d-a405-bd8c6e4be3d7",
   "metadata": {},
   "outputs": [
    {
     "data": {
      "text/plain": [
       "array([[ 1,  2,  3,  4,  5],\n",
       "       [ 6,  7,  8,  9, 10],\n",
       "       [11, 12, 13, 14, 15],\n",
       "       [16, 17, 18, 19, 20],\n",
       "       [21, 22, 23, 24, 25]])"
      ]
     },
     "execution_count": 51,
     "metadata": {},
     "output_type": "execute_result"
    }
   ],
   "source": [
    "arr2d"
   ]
  },
  {
   "cell_type": "code",
   "execution_count": 52,
   "id": "2d43dd29-e5b4-474a-9f48-03b6b39cf51b",
   "metadata": {},
   "outputs": [
    {
     "data": {
      "text/plain": [
       "np.int64(12)"
      ]
     },
     "execution_count": 52,
     "metadata": {},
     "output_type": "execute_result"
    }
   ],
   "source": [
    "arr2d[2,1]"
   ]
  },
  {
   "cell_type": "code",
   "execution_count": 54,
   "id": "c2bed824-c52c-4b6d-9eb8-2f4e72875ca2",
   "metadata": {},
   "outputs": [
    {
     "data": {
      "text/plain": [
       "array([[12, 13, 14]])"
      ]
     },
     "execution_count": 54,
     "metadata": {},
     "output_type": "execute_result"
    }
   ],
   "source": [
    "arr2d[2:3,1:4]"
   ]
  },
  {
   "cell_type": "code",
   "execution_count": 55,
   "id": "e162452b-d97f-48fc-a761-d6fdc2600339",
   "metadata": {},
   "outputs": [
    {
     "data": {
      "text/plain": [
       "array([[10],\n",
       "       [15],\n",
       "       [20]])"
      ]
     },
     "execution_count": 55,
     "metadata": {},
     "output_type": "execute_result"
    }
   ],
   "source": [
    "arr2d[1:-1,4:]"
   ]
  },
  {
   "cell_type": "code",
   "execution_count": 56,
   "id": "9e3de346-8a19-444b-bc52-7a2f5ab2b85b",
   "metadata": {},
   "outputs": [
    {
     "data": {
      "text/plain": [
       "array([[16, 17, 18, 19, 20],\n",
       "       [21, 22, 23, 24, 25]])"
      ]
     },
     "execution_count": 56,
     "metadata": {},
     "output_type": "execute_result"
    }
   ],
   "source": [
    "arr2d[3:]"
   ]
  },
  {
   "cell_type": "code",
   "execution_count": 61,
   "id": "36e7fd98-caa1-438a-a8c3-6a5f634a3a3e",
   "metadata": {},
   "outputs": [
    {
     "data": {
      "text/plain": [
       "array([ 7, 14])"
      ]
     },
     "execution_count": 61,
     "metadata": {},
     "output_type": "execute_result"
    }
   ],
   "source": [
    "arr2d[[1,2],[1,3]]"
   ]
  },
  {
   "cell_type": "code",
   "execution_count": 63,
   "id": "5e6eba4e-dc95-42ae-97c5-c9c5b2ce4807",
   "metadata": {},
   "outputs": [
    {
     "data": {
      "text/plain": [
       "array([ 1, 25])"
      ]
     },
     "execution_count": 63,
     "metadata": {},
     "output_type": "execute_result"
    }
   ],
   "source": [
    "arr2d[[0,-1] , [0,-1]]"
   ]
  },
  {
   "cell_type": "code",
   "execution_count": 68,
   "id": "c673ff16-5c40-4799-98c4-8359ab5df5b8",
   "metadata": {},
   "outputs": [
    {
     "data": {
      "text/plain": [
       "array([ 4, 22])"
      ]
     },
     "execution_count": 68,
     "metadata": {},
     "output_type": "execute_result"
    }
   ],
   "source": [
    "arr2d[[0,-1],[-2,1]]"
   ]
  },
  {
   "cell_type": "markdown",
   "id": "0b610d59-236e-464c-8127-727eafd33e89",
   "metadata": {},
   "source": [
    "\n",
    "\n",
    "\n",
    "NUMPY\n",
    "\n",
    "\n"
   ]
  },
  {
   "cell_type": "code",
   "execution_count": 69,
   "id": "09790f52-ad47-4ed4-96fe-b2d07e905337",
   "metadata": {},
   "outputs": [
    {
     "data": {
      "text/plain": [
       "array([1., 1., 1., 1., 1., 1., 1., 1., 1., 1.])"
      ]
     },
     "execution_count": 69,
     "metadata": {},
     "output_type": "execute_result"
    }
   ],
   "source": [
    "np.ones(10)"
   ]
  },
  {
   "cell_type": "code",
   "execution_count": 70,
   "id": "450a12f6-b914-4996-b5c7-83c9a650171a",
   "metadata": {},
   "outputs": [],
   "source": [
    "a1 = np.arange(0,11)"
   ]
  },
  {
   "cell_type": "code",
   "execution_count": 71,
   "id": "35218213-ec4e-498d-b7c2-cca55442cc22",
   "metadata": {},
   "outputs": [
    {
     "data": {
      "text/plain": [
       "array([ 0,  1,  2,  3,  4,  5,  6,  7,  8,  9, 10])"
      ]
     },
     "execution_count": 71,
     "metadata": {},
     "output_type": "execute_result"
    }
   ],
   "source": [
    "a1"
   ]
  },
  {
   "cell_type": "code",
   "execution_count": 72,
   "id": "62315a67-1730-4115-87b6-3051d0a10afc",
   "metadata": {},
   "outputs": [
    {
     "name": "stderr",
     "output_type": "stream",
     "text": [
      "C:\\Users\\BusinessComputers.in\\AppData\\Local\\Temp\\ipykernel_12616\\1108374187.py:1: RuntimeWarning: invalid value encountered in divide\n",
      "  a1 / a1\n"
     ]
    },
    {
     "data": {
      "text/plain": [
       "array([nan,  1.,  1.,  1.,  1.,  1.,  1.,  1.,  1.,  1.,  1.])"
      ]
     },
     "execution_count": 72,
     "metadata": {},
     "output_type": "execute_result"
    }
   ],
   "source": [
    "a1 / a1"
   ]
  },
  {
   "cell_type": "code",
   "execution_count": 73,
   "id": "152b2fee-e961-48ec-953e-afee86ce9667",
   "metadata": {},
   "outputs": [
    {
     "name": "stderr",
     "output_type": "stream",
     "text": [
      "C:\\Users\\BusinessComputers.in\\AppData\\Local\\Temp\\ipykernel_12616\\2609805251.py:1: RuntimeWarning: divide by zero encountered in divide\n",
      "  1/a1\n"
     ]
    },
    {
     "data": {
      "text/plain": [
       "array([       inf, 1.        , 0.5       , 0.33333333, 0.25      ,\n",
       "       0.2       , 0.16666667, 0.14285714, 0.125     , 0.11111111,\n",
       "       0.1       ])"
      ]
     },
     "execution_count": 73,
     "metadata": {},
     "output_type": "execute_result"
    }
   ],
   "source": [
    "1/a1"
   ]
  },
  {
   "cell_type": "code",
   "execution_count": 74,
   "id": "a141453c-b15d-484a-abfa-c95a8ff4e86a",
   "metadata": {},
   "outputs": [
    {
     "data": {
      "text/plain": [
       "array([0. , 0.5, 1. , 1.5, 2. , 2.5, 3. , 3.5, 4. , 4.5, 5. ])"
      ]
     },
     "execution_count": 74,
     "metadata": {},
     "output_type": "execute_result"
    }
   ],
   "source": [
    "a1 / 2"
   ]
  },
  {
   "cell_type": "code",
   "execution_count": 75,
   "id": "35e69452-75a2-4e53-8902-7ebd2c5d83ef",
   "metadata": {},
   "outputs": [
    {
     "name": "stderr",
     "output_type": "stream",
     "text": [
      "C:\\Users\\BusinessComputers.in\\AppData\\Local\\Temp\\ipykernel_12616\\2387409814.py:1: RuntimeWarning: divide by zero encountered in log\n",
      "  np.log(a1)\n"
     ]
    },
    {
     "data": {
      "text/plain": [
       "array([      -inf, 0.        , 0.69314718, 1.09861229, 1.38629436,\n",
       "       1.60943791, 1.79175947, 1.94591015, 2.07944154, 2.19722458,\n",
       "       2.30258509])"
      ]
     },
     "execution_count": 75,
     "metadata": {},
     "output_type": "execute_result"
    }
   ],
   "source": [
    "np.log(a1)"
   ]
  },
  {
   "cell_type": "code",
   "execution_count": 76,
   "id": "3d77001d-7c07-401f-b67a-6ba62bdaeebe",
   "metadata": {},
   "outputs": [],
   "source": [
    "import pandas as pd"
   ]
  },
  {
   "cell_type": "code",
   "execution_count": 77,
   "id": "c2cd3651-37cb-459e-bd0f-6f92823fb1a3",
   "metadata": {},
   "outputs": [],
   "source": [
    "d1 = [100,200,300,400,500\n",
    "     ]"
   ]
  },
  {
   "cell_type": "code",
   "execution_count": 79,
   "id": "efb3164f-b425-41f5-8d42-f18e40d48b70",
   "metadata": {},
   "outputs": [
    {
     "data": {
      "text/plain": [
       "0    100\n",
       "1    200\n",
       "2    300\n",
       "3    400\n",
       "4    500\n",
       "dtype: int64"
      ]
     },
     "execution_count": 79,
     "metadata": {},
     "output_type": "execute_result"
    }
   ],
   "source": [
    "pd.Series(d1)"
   ]
  },
  {
   "cell_type": "markdown",
   "id": "274d8a76-f21b-4fd1-84f4-e2254e588644",
   "metadata": {},
   "source": [
    "here list is converted in series"
   ]
  },
  {
   "cell_type": "code",
   "execution_count": 83,
   "id": "076cc9b1-9cea-46df-b200-87b12d4ee4ec",
   "metadata": {},
   "outputs": [],
   "source": [
    "d2 = ['a','b','c','d','e']"
   ]
  },
  {
   "cell_type": "code",
   "execution_count": 84,
   "id": "cad7e3c1-950e-4286-acb2-a662f6f78647",
   "metadata": {},
   "outputs": [
    {
     "data": {
      "text/plain": [
       "0    a\n",
       "1    b\n",
       "2    c\n",
       "3    d\n",
       "4    e\n",
       "dtype: object"
      ]
     },
     "execution_count": 84,
     "metadata": {},
     "output_type": "execute_result"
    }
   ],
   "source": [
    "pd.Series(d2)"
   ]
  },
  {
   "cell_type": "code",
   "execution_count": 85,
   "id": "dd06c48d-bb57-4c0f-baab-c5a1e6a336e6",
   "metadata": {},
   "outputs": [
    {
     "data": {
      "text/plain": [
       "a    100\n",
       "b    200\n",
       "c    300\n",
       "d    400\n",
       "e    500\n",
       "dtype: int64"
      ]
     },
     "execution_count": 85,
     "metadata": {},
     "output_type": "execute_result"
    }
   ],
   "source": [
    "pd.Series(d1,d2)"
   ]
  },
  {
   "cell_type": "code",
   "execution_count": 86,
   "id": "cfeeb94a-211c-402a-b62c-19a86b118e98",
   "metadata": {},
   "outputs": [
    {
     "data": {
      "text/plain": [
       "100    a\n",
       "200    b\n",
       "300    c\n",
       "400    d\n",
       "500    e\n",
       "dtype: object"
      ]
     },
     "execution_count": 86,
     "metadata": {},
     "output_type": "execute_result"
    }
   ],
   "source": [
    "pd.Series(d2,d1)\n"
   ]
  },
  {
   "cell_type": "markdown",
   "id": "6e75fc92-ddf6-48a0-8980-e4fd68328ea4",
   "metadata": {},
   "source": [
    "we can interchange columns"
   ]
  },
  {
   "cell_type": "code",
   "execution_count": 87,
   "id": "0aae0179-3079-4d35-92db-7e22d76d8d74",
   "metadata": {},
   "outputs": [],
   "source": [
    "s1 = pd.Series([10,20,30,40,50],['pune','mumbai','delhi','patna','bihar'])\n",
    "s2 = pd.Series([10,20,30,40,50],['pune','mumbai','delhi','chennai','bihar'])\n"
   ]
  },
  {
   "cell_type": "code",
   "execution_count": 88,
   "id": "e657f1ba-8987-429b-ae37-97cb7d32df10",
   "metadata": {},
   "outputs": [
    {
     "data": {
      "text/plain": [
       "pune      10\n",
       "mumbai    20\n",
       "delhi     30\n",
       "patna     40\n",
       "bihar     50\n",
       "dtype: int64"
      ]
     },
     "execution_count": 88,
     "metadata": {},
     "output_type": "execute_result"
    }
   ],
   "source": [
    "s1"
   ]
  },
  {
   "cell_type": "code",
   "execution_count": 89,
   "id": "97f88ee9-09ba-477f-917d-d56f1fb3093a",
   "metadata": {},
   "outputs": [
    {
     "data": {
      "text/plain": [
       "pune       10\n",
       "mumbai     20\n",
       "delhi      30\n",
       "chennai    40\n",
       "bihar      50\n",
       "dtype: int64"
      ]
     },
     "execution_count": 89,
     "metadata": {},
     "output_type": "execute_result"
    }
   ],
   "source": [
    "s2"
   ]
  },
  {
   "cell_type": "code",
   "execution_count": 90,
   "id": "3a7e2d5b-11dc-4cb9-b292-f14831812acb",
   "metadata": {},
   "outputs": [
    {
     "data": {
      "text/plain": [
       "bihar      100.0\n",
       "chennai      NaN\n",
       "delhi       60.0\n",
       "mumbai      40.0\n",
       "patna        NaN\n",
       "pune        20.0\n",
       "dtype: float64"
      ]
     },
     "execution_count": 90,
     "metadata": {},
     "output_type": "execute_result"
    }
   ],
   "source": [
    "s1+s2"
   ]
  },
  {
   "cell_type": "code",
   "execution_count": null,
   "id": "37c98069-c028-4a75-a354-d242d9ca94e2",
   "metadata": {},
   "outputs": [],
   "source": []
  }
 ],
 "metadata": {
  "kernelspec": {
   "display_name": "Python [conda env:base] *",
   "language": "python",
   "name": "conda-base-py"
  },
  "language_info": {
   "codemirror_mode": {
    "name": "ipython",
    "version": 3
   },
   "file_extension": ".py",
   "mimetype": "text/x-python",
   "name": "python",
   "nbconvert_exporter": "python",
   "pygments_lexer": "ipython3",
   "version": "3.13.5"
  }
 },
 "nbformat": 4,
 "nbformat_minor": 5
}
